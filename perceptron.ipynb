{
 "cells": [
  {
   "cell_type": "markdown",
   "metadata": {
    "_cell_guid": "f0a16794-7d7d-417f-9e53-830f4ffb13be",
    "_uuid": "9bfe8f6e5363aa84f2551a17bd519be707061894"
   },
   "source": [
    "# AND-OR-XOR-XNOR-Perceptron\n",
    "### Sophia Kramar"
   ]
  },
  {
   "cell_type": "code",
   "execution_count": 1,
   "metadata": {
    "_cell_guid": "ce8c5553-0cf4-46ba-a79c-651740b3c272",
    "_uuid": "f2e70913c4eb9fa1774b60c66c0a38d5f73e5991"
   },
   "outputs": [],
   "source": [
    "from random import choice \n",
    "from numpy import array, dot, random\n",
    "import numpy as np"
   ]
  },
  {
   "cell_type": "code",
   "execution_count": 2,
   "metadata": {
    "_cell_guid": "82ead592-f173-492e-93a1-e926bdbb7b76",
    "_uuid": "a4f613fc8707b51ffcd8d3a695c0d33ee624665c"
   },
   "outputs": [],
   "source": [
    "class Data:\n",
    "\t\"\"\"here kept all the training sets and other data\"\"\"\n",
    "\ttraining_data_or = [(array([0,0,1]), 0),(array([0,1,1]), 1),(array([1,0,1]), 1),(array([1,1,1]), 1),]\n",
    "\ttraining_data_and = [(array([0,0,1]), 0),(array([0,1,1]), 0),(array([1,0,1]), 0),(array([1,1,1]), 1),]\n",
    "\tthethas_and = [-1, 0, 1]\n",
    "\tthethas_or = [-1, 0, 1]\n",
    "\terrors = [] \n",
    "\tbias = 0.5 \n",
    "\tn = 100"
   ]
  },
  {
   "cell_type": "code",
   "execution_count": 3,
   "metadata": {},
   "outputs": [],
   "source": [
    "unit_step = lambda x: 0 if x < 0 else 1"
   ]
  },
  {
   "cell_type": "code",
   "execution_count": 4,
   "metadata": {},
   "outputs": [],
   "source": [
    "def perceptron(x, thethas, bias):\n",
    "    v = np.dot(thethas, x) + bias\n",
    "    y = unit_step(v)\n",
    "    return y"
   ]
  },
  {
   "cell_type": "code",
   "execution_count": 5,
   "metadata": {},
   "outputs": [],
   "source": [
    "def trainedOR():\n",
    "\tdata = Data()\n",
    "\tfor i in range(data.n): \n",
    "\t    x, expected = choice(data.training_data_or) \n",
    "\t    result = dot(data.thethas_or, x) \n",
    "\t    data.error = expected - unit_step(result) \n",
    "\t    data.errors.append(data.error) \n",
    "\t    data.thethas_or += data.bias * data.error * x\n",
    "\n",
    "\tfor x, _ in data.training_data_or: \n",
    "\t    result = dot(x, data.thethas_or) \n",
    "\t    print(\"OR {}: {} -> {}\".format(x[:2], result, unit_step(result)))\n",
    "\n",
    "def trainedAND():\n",
    "\tdata = Data()\n",
    "\tfor i in range(data.n): \n",
    "\t    x, expected = choice(data.training_data_and) \n",
    "\t    result = dot(data.thethas_and, x) \n",
    "\t    data.error = expected - unit_step(result) \n",
    "\t    data.errors.append(data.error) \n",
    "\t    data.thethas_and += data.bias * data.error * x\n",
    "\n",
    "\tfor x, _ in data.training_data_and: \n",
    "\t    result = dot(x, data.thethas_and) \n",
    "\t    print(\"AND {}: {} -> {}\".format(x[:2], result, unit_step(result)))\n"
   ]
  },
  {
   "cell_type": "code",
   "execution_count": 6,
   "metadata": {
    "scrolled": true
   },
   "outputs": [],
   "source": [
    "def repNOT(x):\n",
    "\treturn perceptron(x, thethas=-1, bias=0.5)\n",
    "\t\n",
    "def perAND(x):\n",
    "    w = np.array([1, 1])\n",
    "    bias = -1.5\n",
    "    return perceptron(x, w, bias)\n",
    "\n",
    "def repOR(x):\n",
    "    w = np.array([1, 1])\n",
    "    bias = -0.5\n",
    "    return perceptron(x, w, bias)\n",
    "\n",
    "def perXOR(x):\n",
    "    new_x = np.array([repNOT(perAND(x)), repOR(x)])\n",
    "    output = perAND(new_x)\n",
    "    return output\n",
    "\t\n",
    "def perXNOR(x):\n",
    "    new_x = np.array([repNOT(perAND(x)), repOR(x)])\n",
    "    output = repNOT(perAND(new_x))\n",
    "    return output\n"
   ]
  },
  {
   "cell_type": "code",
   "execution_count": 7,
   "metadata": {},
   "outputs": [],
   "source": [
    "def test_mod():\n",
    "\ttry:\n",
    "\t    assert perXOR([1, 1]) == 0, 'passed'\n",
    "\t    assert perXNOR([1, 1]) == 1, 'passed'\n",
    "\t    assert unit_step(-0.5) == 0, 'passed'\n",
    "\t    assert unit_step(0.5) == 1, 'passed'\n",
    "\t    assert unit_step(0.0) == 1, 'passed'\n",
    "\texcept AssertionError:\n",
    "\t    raise AssertionError(\"Some of the tests were failed\")\n",
    "\telse:\n",
    "\t    print(\"All the tests passed\\n\")\n"
   ]
  },
  {
   "cell_type": "code",
   "execution_count": 9,
   "metadata": {},
   "outputs": [
    {
     "name": "stdout",
     "output_type": "stream",
     "text": [
      "All the tests passed\n",
      "\n",
      "AND [0 0]: -1.0 -> 0\n",
      "AND [0 1]: -0.5 -> 0\n",
      "AND [1 0]: -0.5 -> 0\n",
      "AND [1 1]: 0.0 -> 1\n",
      "OR [0 0]: -0.5 -> 0\n",
      "OR [0 1]: 0.0 -> 1\n",
      "OR [1 0]: 0.0 -> 1\n",
      "OR [1 1]: 0.5 -> 1\n",
      "xOR [1 1]: -> 0\n",
      "xOR [1 0]: -> 1\n",
      "xOR [0 1]: -> 1\n",
      "xOR [0 0]: -> 0\n",
      "xnOR [1 1]: -> 1\n",
      "xnOR [1 0]: -> 0\n",
      "xnOR [0 1]: -> 0\n",
      "xnOR [0 0]: -> 1\n"
     ]
    }
   ],
   "source": [
    "if __name__ == '__main__':\n",
    "    \n",
    "    test_mod()\n",
    "\n",
    "    trainedAND()\n",
    "    trainedOR()    \n",
    "\n",
    "    print(\"xOR [{} {}]: -> {}\".format(1, 1, perXOR([1, 1])))\n",
    "    print(\"xOR [{} {}]: -> {}\".format(1, 0, perXOR([1, 0])))\n",
    "    print(\"xOR [{} {}]: -> {}\".format(0, 1, perXOR([0, 1])))\n",
    "    print(\"xOR [{} {}]: -> {}\".format(0, 0, perXOR([0, 0])))\n",
    "\n",
    "    print(\"xnOR [{} {}]: -> {}\".format(1, 1, perXNOR([1, 1])))\n",
    "    print(\"xnOR [{} {}]: -> {}\".format(1, 0, perXNOR([1, 0])))\n",
    "    print(\"xnOR [{} {}]: -> {}\".format(0, 1, perXNOR([0, 1])))\n",
    "    print(\"xnOR [{} {}]: -> {}\".format(0, 0, perXNOR([0, 0])))"
   ]
  }
 ],
 "metadata": {
  "anaconda-cloud": {},
  "kernelspec": {
   "display_name": "Python 3",
   "language": "python",
   "name": "python3"
  },
  "language_info": {
   "codemirror_mode": {
    "name": "ipython",
    "version": 3
   },
   "file_extension": ".py",
   "mimetype": "text/x-python",
   "name": "python",
   "nbconvert_exporter": "python",
   "pygments_lexer": "ipython3",
   "version": "3.7.1"
  }
 },
 "nbformat": 4,
 "nbformat_minor": 1
}
